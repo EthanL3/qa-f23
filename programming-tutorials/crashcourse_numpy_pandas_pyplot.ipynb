{
 "cells": [
  {
   "cell_type": "markdown",
   "metadata": {},
   "source": [
    "**Adapted from https://gist.github.com/kenjyco/69eeb503125035f21a9d**\n"
   ]
  },
  {
   "cell_type": "markdown",
   "metadata": {},
   "source": [
    "## Quick note about Jupyter cells\n",
    "\n",
    "When you are editing a cell in Jupyter notebook, you need to re-run the cell by pressing **`<Shift> + <Enter>`**. This will allow changes you made to be available to other cells.\n",
    "\n",
    "Use **`<Enter>`** to make new lines inside a cell you are editing.\n",
    "\n",
    "#### Code cells\n",
    "\n",
    "Re-running will execute any statements you have written. To edit an existing code cell, click on it.\n",
    "\n",
    "#### Markdown cells\n",
    "\n",
    "Re-running will render the markdown text. To edit an existing markdown cell, double-click on it.\n",
    "\n",
    "<hr>"
   ]
  },
  {
   "cell_type": "markdown",
   "metadata": {},
   "source": [
    "**Adapted from https://gist.github.com/kenjyco/69eeb503125035f21a9d**\n"
   ]
  },
  {
   "cell_type": "markdown",
   "metadata": {},
   "source": [
    "## Quick note about Jupyter cells\n",
    "\n",
    "When you are editing a cell in Jupyter notebook, you need to re-run the cell by pressing **`<Shift> + <Enter>`**. This will allow changes you made to be available to other cells.\n",
    "\n",
    "Use **`<Enter>`** to make new lines inside a cell you are editing.\n",
    "\n",
    "#### Code cells\n",
    "\n",
    "Re-running will execute any statements you have written. To edit an existing code cell, click on it.\n",
    "\n",
    "#### Markdown cells\n",
    "\n",
    "Re-running will render the markdown text. To edit an existing markdown cell, double-click on it.\n",
    "\n",
    "<hr>"
   ]
  },
  {
   "cell_type": "markdown",
   "metadata": {},
   "source": [
    "## Common Jupyter operations\n",
    "\n",
    "Near the top of the Jupyter notebook window, there are a row of menu options (`File`, `Edit`, `View`, `Insert`, ...) and a row of tool bar icons (disk, plus sign, scissors, 2 files, clipboard and file, up arrow, ...).\n",
    "\n",
    "#### Inserting and removing cells\n",
    "\n",
    "- Use the \"plus sign\" icon to insert a cell below the currently selected cell\n",
    "- Use \"Insert\" -> \"Insert Cell Above\" from the menu to insert above\n",
    "\n",
    "#### Clear the output of all cells\n",
    "\n",
    "- Use \"Kernel\" -> \"Restart\" from the menu to restart the kernel\n",
    "    - click on \"clear all outputs & restart\" to have all the output cleared\n",
    "\n",
    "#### Save your notebook file locally\n",
    "\n",
    "- Clear the output of all cells\n",
    "- Use \"File\" -> \"Download as\" -> \"IPython Notebook (.ipynb)\" to download a notebook file representing your https://mybinder.org session\n",
    "\n",
    "<hr>"
   ]
  },
  {
   "cell_type": "markdown",
   "metadata": {},
   "source": [
    "## Tips and tricks for .ipynb and VSCode"
   ]
  },
  {
   "cell_type": "markdown",
   "metadata": {},
   "source": [
    "* Question mark after a command to bring up the documentaries that gives you info on what it does\n",
    "* To comment and uncomment blocks in Jupyter: **` 'CMD' + '/' `**\n",
    "* To indent or unindent blocks of code: **` CMD + '[' OR ']' `**\n",
    "* **` ESC + L `** to number each line of code\n",
    "* To select multiple occurrences of words and edit simultaneously in VSCode, highlight the word, press `CMD + D` and edit"
   ]
  },
  {
   "cell_type": "code",
   "execution_count": null,
   "metadata": {},
   "outputs": [],
   "source": [
    "\n",
    "def some_code(x, y):\n",
    "    \"\"\"\n",
    "    Comment the first three solutions out and fix indentation\n",
    "    \"\"\"\n",
    "    #solution = x + y\n",
    "    #solution = x - y\n",
    "    #solution = x * y\n",
    "    #solution = np.sqrt(x**2 + y**2)\n",
    "    #return solution"
   ]
  },
  {
   "cell_type": "code",
   "execution_count": null,
   "metadata": {},
   "outputs": [
    {
     "name": "stdout",
     "output_type": "stream",
     "text": [
      "1 2\n"
     ]
    }
   ],
   "source": [
    "# multiple variable assignments\n",
    "mean, std = 1, 2\n",
    "print(mean, std)"
   ]
  },
  {
   "cell_type": "markdown",
   "metadata": {},
   "source": [
    "## NumPy\n",
    "\n",
    "Great for simple numerical calculations and manipulating data structures like arrays and vectors."
   ]
  },
  {
   "cell_type": "markdown",
   "metadata": {},
   "source": [
    "### Some methods on list objects\n",
    "\n",
    "- **`.append(item)`** to add a single item to the list\n",
    "- **`.extend([item1, item2, ...])`** to add multiple items to the list\n",
    "- **`.remove(item)`** to remove a single item from the list\n",
    "- **`.pop()`** to remove and return the item at the end of the list\n",
    "- **`.pop(index)`** to remove and return an item at an index"
   ]
  },
  {
   "cell_type": "code",
   "execution_count": null,
   "metadata": {},
   "outputs": [
    {
     "data": {
      "text/plain": [
       "numpy.ndarray"
      ]
     },
     "metadata": {},
     "output_type": "display_data"
    }
   ],
   "source": [
    "# Manipulating lists and arrays are important for playing around with any type of data\n",
    "\n",
    "import numpy as np\n",
    "\n",
    "array1 = np.array([0, 1, 2, 3, 4, 5])\n",
    "type(array1)\n",
    "# numpy arrays are really useful for vectorization and matrix operations"
   ]
  },
  {
   "cell_type": "code",
   "execution_count": null,
   "metadata": {},
   "outputs": [
    {
     "name": "stdout",
     "output_type": "stream",
     "text": [
      "Array1 Before: [0 1 2 3 4 5]\n",
      "Array1 After: [ 0  1  2  3  4  5 15]\n"
     ]
    }
   ],
   "source": [
    "# f-strings are very useful for debugging and printing in general\n",
    "print(f'Array1 Before: {array1}')\n",
    "array1 = np.append(array1, 15) # append is a function\n",
    "print(f'Array1 After: {array1}')"
   ]
  },
  {
   "cell_type": "code",
   "execution_count": null,
   "metadata": {},
   "outputs": [
    {
     "name": "stdout",
     "output_type": "stream",
     "text": [
      "list1 Before: [0, 1, 2, 3, 4]\n",
      "list1 After: None\n"
     ]
    }
   ],
   "source": [
    "list1 = list(range(5))\n",
    "print(f'list1 Before: {list1}')\n",
    "# list1.append(15) \n",
    "list1 = list1.append(15) # .append is a method, it does it to itself\n",
    "print(f'list1 After: {list1}')"
   ]
  },
  {
   "cell_type": "code",
   "execution_count": null,
   "metadata": {},
   "outputs": [
    {
     "name": "stdout",
     "output_type": "stream",
     "text": [
      "list1 Before: [0, 1, 2, 3, 4]\n",
      "list1 After: [1, 2, 3, 4]\n"
     ]
    }
   ],
   "source": [
    "# Queues - First in First Out (FIFO)\n",
    "list1 = list(range(5))\n",
    "print(f'list1 Before: {list1}')\n",
    "list1.pop(0)\n",
    "print(f'list1 After: {list1}')\n",
    "\n",
    "# append and pop(0) are great for turning your data structure into a Queue\n",
    "# Check out dequeues, great data structure for LeetCode questions\n",
    "# https://www.geeksforgeeks.org/deque-in-python/"
   ]
  },
  {
   "cell_type": "code",
   "execution_count": null,
   "metadata": {},
   "outputs": [
    {
     "name": "stdout",
     "output_type": "stream",
     "text": [
      "[  0.   2.   4.   6.   8.  10.  12.  14.  16.  18.  20.  22.  24.  26.\n",
      "  28.  30.  32.  34.  36.  38.  40.  42.  44.  46.  48.  50.  52.  54.\n",
      "  56.  58.  60.  62.  64.  66.  68.  70.  72.  74.  76.  78.  80.  82.\n",
      "  84.  86.  88.  90.  92.  94.  96.  98. 100.]\n",
      "<class 'numpy.ndarray'>\n"
     ]
    }
   ],
   "source": [
    "ls = np.linspace(0, 100, 51) # notice the dtype is a float, you can change this in the linspace function parameters\n",
    "#np.arange()\n",
    "print(ls)\n",
    "print(type(ls))\n",
    "#?np.linspace"
   ]
  },
  {
   "cell_type": "code",
   "execution_count": null,
   "metadata": {},
   "outputs": [
    {
     "name": "stdout",
     "output_type": "stream",
     "text": [
      "list2 Before: [0, 1, 2, 3, 4, 5]\n",
      "list2 After: [0, 1, 2, 3, 4, 5, 0, 1, 2, 3, 4, 5]\n",
      "\n",
      "array2 Before: [0 1 2 3 4 5]\n",
      "array2 After: [ 0  2  4  6  8 10]\n"
     ]
    }
   ],
   "source": [
    "list2 = list(range(6))\n",
    "array2 = np.array([0, 1, 2, 3, 4, 5])\n",
    "\n",
    "print(f'list2 Before: {list2}')\n",
    "list2 = 2*list2\n",
    "print(f'list2 After: {list2}')\n",
    "\n",
    "print() ###################\n",
    "\n",
    "print(f'array2 Before: {array2}')\n",
    "array2 = 2*array2\n",
    "print(f'array2 After: {array2}')\n",
    "# this is why arrays are great for linear algebra and playing with data (matrices)"
   ]
  },
  {
   "cell_type": "code",
   "execution_count": null,
   "metadata": {},
   "outputs": [
    {
     "name": "stdout",
     "output_type": "stream",
     "text": [
      "2.718281828459045 3.141592653589793 1.2246467991473532e-16\n"
     ]
    }
   ],
   "source": [
    "print(np.e, np.pi, np.sin(np.pi))\n",
    "\n",
    "# notice what np.sin(np.pi) returns, can you think why?"
   ]
  },
  {
   "cell_type": "markdown",
   "metadata": {},
   "source": [
    "## Matplotlib\n",
    "\n",
    "Great for making plots in Python. Typical plots include histograms, lineplots, and scatterplots."
   ]
  },
  {
   "cell_type": "code",
   "execution_count": null,
   "metadata": {},
   "outputs": [],
   "source": [
    "from matplotlib import pyplot as plt\n",
    "# OR import matplotlib.pyplot as plt"
   ]
  },
  {
   "cell_type": "code",
   "execution_count": null,
   "metadata": {},
   "outputs": [
    {
     "name": "stdout",
     "output_type": "stream",
     "text": [
      "[0.         0.01574733 0.03149466 0.04724199 0.06298933 0.07873666\n",
      " 0.09448399 0.11023132 0.12597865 0.14172598]\n"
     ]
    }
   ],
   "source": [
    "x = np.linspace(0, 2 * np.pi, 400)\n",
    "y = np.sin(x) # transform x\n",
    "print(x[:10])"
   ]
  },
  {
   "cell_type": "code",
   "execution_count": null,
   "metadata": {},
   "outputs": [
    {
     "data": {
      "text/plain": [
       "Text(0.5, 1.0, 'y vs x')"
      ]
     },
     "metadata": {},
     "output_type": "display_data"
    },
    {
     "data": {
      "image/png": "[encoded data removed]",
      "text/plain": [
       "<Figure size 640x480 with 1 Axes>"
      ]
     },
     "metadata": {},
     "output_type": "display_data"
    }
   ],
   "source": [
    "plt.figure()\n",
    "plt.plot(x, y)\n",
    "\n",
    "plt.xlabel(\"x\")\n",
    "plt.ylabel(\"y\")\n",
    "plt.title(\"y vs x\")"
   ]
  },
  {
   "cell_type": "code",
   "execution_count": null,
   "metadata": {},
   "outputs": [
    {
     "data": {
      "text/plain": [
       "[<matplotlib.lines.Line2D at 0x1fc75a1bf50>]"
      ]
     },
     "metadata": {},
     "output_type": "display_data"
    },
    {
     "data": {
      "image/png": "[encoded data removed]",
      "text/plain": [
       "<Figure size 640x480 with 2 Axes>"
      ]
     },
     "metadata": {},
     "output_type": "display_data"
    }
   ],
   "source": [
    "fig, axs = plt.subplots(2)\n",
    "fig.suptitle('Vertically stacked subplots')\n",
    "axs[0].plot(x, y)\n",
    "axs[1].plot(x, -y)"
   ]
  },
  {
   "cell_type": "code",
   "execution_count": null,
   "metadata": {},
   "outputs": [],
   "source": [
    "# Plot, labels, and legends\n",
    "# might have to use plt.show() if plots not showing"
   ]
  },
  {
   "cell_type": "code",
   "execution_count": null,
   "metadata": {},
   "outputs": [
    {
     "data": {
      "text/plain": [
       "[<matplotlib.lines.Line2D at 0x1fc75b14e10>]"
      ]
     },
     "metadata": {},
     "output_type": "display_data"
    },
    {
     "data": {
      "image/png": "[encoded data removed]",
      "text/plain": [
       "<Figure size 500x500 with 2 Axes>"
      ]
     },
     "metadata": {},
     "output_type": "display_data"
    }
   ],
   "source": [
    "fig, (ax1, ax2) = plt.subplots(2, figsize = (5,5))\n",
    "fig.suptitle('Vertically stacked subplots')\n",
    "ax1.plot(x, y)\n",
    "ax2.plot(x, -y)"
   ]
  },
  {
   "cell_type": "code",
   "execution_count": null,
   "metadata": {},
   "outputs": [
    {
     "data": {
      "text/plain": [
       "[<matplotlib.lines.Line2D at 0x1fc75e7d7d0>]"
      ]
     },
     "metadata": {},
     "output_type": "display_data"
    },
    {
     "data": {
      "image/png": "[encoded data removed]",
      "text/plain": [
       "<Figure size 1000x500 with 2 Axes>"
      ]
     },
     "metadata": {},
     "output_type": "display_data"
    }
   ],
   "source": [
    "fig, (ax1, ax2) = plt.subplots(1, 2, figsize=(10,5))\n",
    "fig.suptitle('Horizontally stacked subplots')\n",
    "ax1.plot(x, y)\n",
    "ax2.plot(x, -y)"
   ]
  },
  {
   "cell_type": "code",
   "execution_count": null,
   "metadata": {},
   "outputs": [
    {
     "data": {
      "text/plain": [
       "<matplotlib.collections.PathCollection at 0x18efcb60ad0>"
      ]
     },
     "metadata": {},
     "output_type": "display_data"
    },
    {
     "data": {
      "image/png": "[encoded data removed]",
      "text/plain": [
       "<Figure size 640x480 with 1 Axes>"
      ]
     },
     "metadata": {},
     "output_type": "display_data"
    }
   ],
   "source": [
    "import numpy as np\n",
    "Z = np.random.normal(0, 1, 100)\n",
    "plt.hist(Z, bins = 100)\n",
    "plt.scatter(Z, Z**2)"
   ]
  },
  {
   "cell_type": "markdown",
   "metadata": {},
   "source": [
    "## Pandas\n",
    "\n",
    "Great for reading data, manipulating data, preparing data."
   ]
  },
  {
   "cell_type": "code",
   "execution_count": null,
   "metadata": {},
   "outputs": [
    {
     "data": {
      "text/html": [
       "<div>\n",
       "<style scoped>\n",
       "    .dataframe tbody tr th:only-of-type {\n",
       "        vertical-align: middle;\n",
       "    }\n",
       "\n",
       "    .dataframe tbody tr th {\n",
       "        vertical-align: top;\n",
       "    }\n",
       "\n",
       "    .dataframe thead th {\n",
       "        text-align: right;\n",
       "    }\n",
       "</style>\n",
       "<table border=\"1\" class=\"dataframe\">\n",
       "  <thead>\n",
       "    <tr style=\"text-align: right;\">\n",
       "      <th></th>\n",
       "      <th>Date</th>\n",
       "      <th>Open</th>\n",
       "      <th>High</th>\n",
       "      <th>Low</th>\n",
       "      <th>Close</th>\n",
       "      <th>Adj Close</th>\n",
       "      <th>Volume</th>\n",
       "    </tr>\n",
       "  </thead>\n",
       "  <tbody>\n",
       "    <tr>\n",
       "      <th>0</th>\n",
       "      <td>2016-10-17</td>\n",
       "      <td>213.089996</td>\n",
       "      <td>213.389999</td>\n",
       "      <td>212.169998</td>\n",
       "      <td>212.380005</td>\n",
       "      <td>193.917557</td>\n",
       "      <td>58275700</td>\n",
       "    </tr>\n",
       "    <tr>\n",
       "      <th>1</th>\n",
       "      <td>2016-10-18</td>\n",
       "      <td>214.240005</td>\n",
       "      <td>214.309998</td>\n",
       "      <td>213.270004</td>\n",
       "      <td>213.710007</td>\n",
       "      <td>195.131958</td>\n",
       "      <td>76869700</td>\n",
       "    </tr>\n",
       "    <tr>\n",
       "      <th>2</th>\n",
       "      <td>2016-10-19</td>\n",
       "      <td>214.020004</td>\n",
       "      <td>214.639999</td>\n",
       "      <td>213.600006</td>\n",
       "      <td>214.279999</td>\n",
       "      <td>195.652405</td>\n",
       "      <td>66519200</td>\n",
       "    </tr>\n",
       "    <tr>\n",
       "      <th>3</th>\n",
       "      <td>2016-10-20</td>\n",
       "      <td>213.869995</td>\n",
       "      <td>214.529999</td>\n",
       "      <td>213.110001</td>\n",
       "      <td>213.880005</td>\n",
       "      <td>195.287125</td>\n",
       "      <td>73639800</td>\n",
       "    </tr>\n",
       "    <tr>\n",
       "      <th>4</th>\n",
       "      <td>2016-10-21</td>\n",
       "      <td>213.880005</td>\n",
       "      <td>214.080002</td>\n",
       "      <td>212.759995</td>\n",
       "      <td>213.979996</td>\n",
       "      <td>195.378418</td>\n",
       "      <td>89089100</td>\n",
       "    </tr>\n",
       "    <tr>\n",
       "      <th>...</th>\n",
       "      <td>...</td>\n",
       "      <td>...</td>\n",
       "      <td>...</td>\n",
       "      <td>...</td>\n",
       "      <td>...</td>\n",
       "      <td>...</td>\n",
       "      <td>...</td>\n",
       "    </tr>\n",
       "    <tr>\n",
       "      <th>1253</th>\n",
       "      <td>2021-10-08</td>\n",
       "      <td>439.480011</td>\n",
       "      <td>439.890015</td>\n",
       "      <td>437.190002</td>\n",
       "      <td>437.859985</td>\n",
       "      <td>437.859985</td>\n",
       "      <td>74492900</td>\n",
       "    </tr>\n",
       "    <tr>\n",
       "      <th>1254</th>\n",
       "      <td>2021-10-11</td>\n",
       "      <td>437.160004</td>\n",
       "      <td>440.260010</td>\n",
       "      <td>434.619995</td>\n",
       "      <td>434.690002</td>\n",
       "      <td>434.690002</td>\n",
       "      <td>65233300</td>\n",
       "    </tr>\n",
       "    <tr>\n",
       "      <th>1255</th>\n",
       "      <td>2021-10-12</td>\n",
       "      <td>435.670013</td>\n",
       "      <td>436.100006</td>\n",
       "      <td>432.779999</td>\n",
       "      <td>433.619995</td>\n",
       "      <td>433.619995</td>\n",
       "      <td>71181200</td>\n",
       "    </tr>\n",
       "    <tr>\n",
       "      <th>1256</th>\n",
       "      <td>2021-10-13</td>\n",
       "      <td>434.709991</td>\n",
       "      <td>436.049988</td>\n",
       "      <td>431.540009</td>\n",
       "      <td>435.179993</td>\n",
       "      <td>435.179993</td>\n",
       "      <td>72974000</td>\n",
       "    </tr>\n",
       "    <tr>\n",
       "      <th>1257</th>\n",
       "      <td>2021-10-14</td>\n",
       "      <td>439.079987</td>\n",
       "      <td>442.660004</td>\n",
       "      <td>438.579987</td>\n",
       "      <td>442.500000</td>\n",
       "      <td>442.500000</td>\n",
       "      <td>70137800</td>\n",
       "    </tr>\n",
       "  </tbody>\n",
       "</table>\n",
       "<p>1258 rows × 7 columns</p>\n",
       "</div>"
      ],
      "text/plain": [
       "            Date        Open        High         Low       Close   Adj Close  \\\n",
       "0     2016-10-17  213.089996  213.389999  212.169998  212.380005  193.917557   \n",
       "1     2016-10-18  214.240005  214.309998  213.270004  213.710007  195.131958   \n",
       "2     2016-10-19  214.020004  214.639999  213.600006  214.279999  195.652405   \n",
       "3     2016-10-20  213.869995  214.529999  213.110001  213.880005  195.287125   \n",
       "4     2016-10-21  213.880005  214.080002  212.759995  213.979996  195.378418   \n",
       "...          ...         ...         ...         ...         ...         ...   \n",
       "1253  2021-10-08  439.480011  439.890015  437.190002  437.859985  437.859985   \n",
       "1254  2021-10-11  437.160004  440.260010  434.619995  434.690002  434.690002   \n",
       "1255  2021-10-12  435.670013  436.100006  432.779999  433.619995  433.619995   \n",
       "1256  2021-10-13  434.709991  436.049988  431.540009  435.179993  435.179993   \n",
       "1257  2021-10-14  439.079987  442.660004  438.579987  442.500000  442.500000   \n",
       "\n",
       "        Volume  \n",
       "0     58275700  \n",
       "1     76869700  \n",
       "2     66519200  \n",
       "3     73639800  \n",
       "4     89089100  \n",
       "...        ...  \n",
       "1253  74492900  \n",
       "1254  65233300  \n",
       "1255  71181200  \n",
       "1256  72974000  \n",
       "1257  70137800  \n",
       "\n",
       "[1258 rows x 7 columns]"
      ]
     },
     "metadata": {},
     "output_type": "display_data"
    }
   ],
   "source": [
    "import pandas as pd\n",
    "\n",
    "data = pd.read_csv('SPY.csv')\n",
    "data"
   ]
  },
  {
   "cell_type": "code",
   "execution_count": null,
   "metadata": {},
   "outputs": [
    {
     "data": {
      "text/html": [
       "<div>\n",
       "<style scoped>\n",
       "    .dataframe tbody tr th:only-of-type {\n",
       "        vertical-align: middle;\n",
       "    }\n",
       "\n",
       "    .dataframe tbody tr th {\n",
       "        vertical-align: top;\n",
       "    }\n",
       "\n",
       "    .dataframe thead th {\n",
       "        text-align: right;\n",
       "    }\n",
       "</style>\n",
       "<table border=\"1\" class=\"dataframe\">\n",
       "  <thead>\n",
       "    <tr style=\"text-align: right;\">\n",
       "      <th></th>\n",
       "      <th>Date</th>\n",
       "      <th>Open</th>\n",
       "      <th>High</th>\n",
       "      <th>Low</th>\n",
       "      <th>Close</th>\n",
       "      <th>Adj Close</th>\n",
       "      <th>Volume</th>\n",
       "    </tr>\n",
       "  </thead>\n",
       "  <tbody>\n",
       "    <tr>\n",
       "      <th>0</th>\n",
       "      <td>2016-10-17</td>\n",
       "      <td>213.089996</td>\n",
       "      <td>213.389999</td>\n",
       "      <td>212.169998</td>\n",
       "      <td>212.380005</td>\n",
       "      <td>193.917557</td>\n",
       "      <td>58275700</td>\n",
       "    </tr>\n",
       "    <tr>\n",
       "      <th>1</th>\n",
       "      <td>2016-10-18</td>\n",
       "      <td>214.240005</td>\n",
       "      <td>214.309998</td>\n",
       "      <td>213.270004</td>\n",
       "      <td>213.710007</td>\n",
       "      <td>195.131958</td>\n",
       "      <td>76869700</td>\n",
       "    </tr>\n",
       "    <tr>\n",
       "      <th>2</th>\n",
       "      <td>2016-10-19</td>\n",
       "      <td>214.020004</td>\n",
       "      <td>214.639999</td>\n",
       "      <td>213.600006</td>\n",
       "      <td>214.279999</td>\n",
       "      <td>195.652405</td>\n",
       "      <td>66519200</td>\n",
       "    </tr>\n",
       "    <tr>\n",
       "      <th>3</th>\n",
       "      <td>2016-10-20</td>\n",
       "      <td>213.869995</td>\n",
       "      <td>214.529999</td>\n",
       "      <td>213.110001</td>\n",
       "      <td>213.880005</td>\n",
       "      <td>195.287125</td>\n",
       "      <td>73639800</td>\n",
       "    </tr>\n",
       "    <tr>\n",
       "      <th>4</th>\n",
       "      <td>2016-10-21</td>\n",
       "      <td>213.880005</td>\n",
       "      <td>214.080002</td>\n",
       "      <td>212.759995</td>\n",
       "      <td>213.979996</td>\n",
       "      <td>195.378418</td>\n",
       "      <td>89089100</td>\n",
       "    </tr>\n",
       "  </tbody>\n",
       "</table>\n",
       "</div>"
      ],
      "text/plain": [
       "         Date        Open        High         Low       Close   Adj Close  \\\n",
       "0  2016-10-17  213.089996  213.389999  212.169998  212.380005  193.917557   \n",
       "1  2016-10-18  214.240005  214.309998  213.270004  213.710007  195.131958   \n",
       "2  2016-10-19  214.020004  214.639999  213.600006  214.279999  195.652405   \n",
       "3  2016-10-20  213.869995  214.529999  213.110001  213.880005  195.287125   \n",
       "4  2016-10-21  213.880005  214.080002  212.759995  213.979996  195.378418   \n",
       "\n",
       "     Volume  \n",
       "0  58275700  \n",
       "1  76869700  \n",
       "2  66519200  \n",
       "3  73639800  \n",
       "4  89089100  "
      ]
     },
     "metadata": {},
     "output_type": "display_data"
    }
   ],
   "source": [
    "data.head()\n",
    "# data.tail()"
   ]
  },
  {
   "cell_type": "code",
   "execution_count": null,
   "metadata": {},
   "outputs": [
    {
     "data": {
      "text/plain": [
       "<Axes: xlabel='Date'>"
      ]
     },
     "metadata": {},
     "output_type": "display_data"
    },
    {
     "data": {
      "image/png": "[encoded data removed]",
      "text/plain": [
       "<Figure size 640x480 with 1 Axes>"
      ]
     },
     "metadata": {},
     "output_type": "display_data"
    }
   ],
   "source": [
    "data.plot('Date', 'Close')"
   ]
  },
  {
   "cell_type": "code",
   "execution_count": null,
   "metadata": {},
   "outputs": [
    {
     "data": {
      "text/html": [
       "<div>\n",
       "<style scoped>\n",
       "    .dataframe tbody tr th:only-of-type {\n",
       "        vertical-align: middle;\n",
       "    }\n",
       "\n",
       "    .dataframe tbody tr th {\n",
       "        vertical-align: top;\n",
       "    }\n",
       "\n",
       "    .dataframe thead th {\n",
       "        text-align: right;\n",
       "    }\n",
       "</style>\n",
       "<table border=\"1\" class=\"dataframe\">\n",
       "  <thead>\n",
       "    <tr style=\"text-align: right;\">\n",
       "      <th></th>\n",
       "      <th>Date</th>\n",
       "      <th>Open</th>\n",
       "      <th>High</th>\n",
       "      <th>Low</th>\n",
       "      <th>Close</th>\n",
       "      <th>Adj Close</th>\n",
       "      <th>Volume</th>\n",
       "      <th>returns</th>\n",
       "    </tr>\n",
       "  </thead>\n",
       "  <tbody>\n",
       "    <tr>\n",
       "      <th>0</th>\n",
       "      <td>2016-10-17</td>\n",
       "      <td>213.089996</td>\n",
       "      <td>213.389999</td>\n",
       "      <td>212.169998</td>\n",
       "      <td>212.380005</td>\n",
       "      <td>193.917557</td>\n",
       "      <td>58275700</td>\n",
       "      <td>-0.003332</td>\n",
       "    </tr>\n",
       "    <tr>\n",
       "      <th>1</th>\n",
       "      <td>2016-10-18</td>\n",
       "      <td>214.240005</td>\n",
       "      <td>214.309998</td>\n",
       "      <td>213.270004</td>\n",
       "      <td>213.710007</td>\n",
       "      <td>195.131958</td>\n",
       "      <td>76869700</td>\n",
       "      <td>-0.002474</td>\n",
       "    </tr>\n",
       "    <tr>\n",
       "      <th>2</th>\n",
       "      <td>2016-10-19</td>\n",
       "      <td>214.020004</td>\n",
       "      <td>214.639999</td>\n",
       "      <td>213.600006</td>\n",
       "      <td>214.279999</td>\n",
       "      <td>195.652405</td>\n",
       "      <td>66519200</td>\n",
       "      <td>0.001215</td>\n",
       "    </tr>\n",
       "    <tr>\n",
       "      <th>3</th>\n",
       "      <td>2016-10-20</td>\n",
       "      <td>213.869995</td>\n",
       "      <td>214.529999</td>\n",
       "      <td>213.110001</td>\n",
       "      <td>213.880005</td>\n",
       "      <td>195.287125</td>\n",
       "      <td>73639800</td>\n",
       "      <td>0.000047</td>\n",
       "    </tr>\n",
       "    <tr>\n",
       "      <th>4</th>\n",
       "      <td>2016-10-21</td>\n",
       "      <td>213.880005</td>\n",
       "      <td>214.080002</td>\n",
       "      <td>212.759995</td>\n",
       "      <td>213.979996</td>\n",
       "      <td>195.378418</td>\n",
       "      <td>89089100</td>\n",
       "      <td>0.000468</td>\n",
       "    </tr>\n",
       "    <tr>\n",
       "      <th>...</th>\n",
       "      <td>...</td>\n",
       "      <td>...</td>\n",
       "      <td>...</td>\n",
       "      <td>...</td>\n",
       "      <td>...</td>\n",
       "      <td>...</td>\n",
       "      <td>...</td>\n",
       "      <td>...</td>\n",
       "    </tr>\n",
       "    <tr>\n",
       "      <th>1253</th>\n",
       "      <td>2021-10-08</td>\n",
       "      <td>439.480011</td>\n",
       "      <td>439.890015</td>\n",
       "      <td>437.190002</td>\n",
       "      <td>437.859985</td>\n",
       "      <td>437.859985</td>\n",
       "      <td>74492900</td>\n",
       "      <td>-0.003686</td>\n",
       "    </tr>\n",
       "    <tr>\n",
       "      <th>1254</th>\n",
       "      <td>2021-10-11</td>\n",
       "      <td>437.160004</td>\n",
       "      <td>440.260010</td>\n",
       "      <td>434.619995</td>\n",
       "      <td>434.690002</td>\n",
       "      <td>434.690002</td>\n",
       "      <td>65233300</td>\n",
       "      <td>-0.005650</td>\n",
       "    </tr>\n",
       "    <tr>\n",
       "      <th>1255</th>\n",
       "      <td>2021-10-12</td>\n",
       "      <td>435.670013</td>\n",
       "      <td>436.100006</td>\n",
       "      <td>432.779999</td>\n",
       "      <td>433.619995</td>\n",
       "      <td>433.619995</td>\n",
       "      <td>71181200</td>\n",
       "      <td>-0.004705</td>\n",
       "    </tr>\n",
       "    <tr>\n",
       "      <th>1256</th>\n",
       "      <td>2021-10-13</td>\n",
       "      <td>434.709991</td>\n",
       "      <td>436.049988</td>\n",
       "      <td>431.540009</td>\n",
       "      <td>435.179993</td>\n",
       "      <td>435.179993</td>\n",
       "      <td>72974000</td>\n",
       "      <td>0.001081</td>\n",
       "    </tr>\n",
       "    <tr>\n",
       "      <th>1257</th>\n",
       "      <td>2021-10-14</td>\n",
       "      <td>439.079987</td>\n",
       "      <td>442.660004</td>\n",
       "      <td>438.579987</td>\n",
       "      <td>442.500000</td>\n",
       "      <td>442.500000</td>\n",
       "      <td>70137800</td>\n",
       "      <td>0.007789</td>\n",
       "    </tr>\n",
       "  </tbody>\n",
       "</table>\n",
       "<p>1258 rows × 8 columns</p>\n",
       "</div>"
      ],
      "text/plain": [
       "            Date        Open        High         Low       Close   Adj Close  \\\n",
       "0     2016-10-17  213.089996  213.389999  212.169998  212.380005  193.917557   \n",
       "1     2016-10-18  214.240005  214.309998  213.270004  213.710007  195.131958   \n",
       "2     2016-10-19  214.020004  214.639999  213.600006  214.279999  195.652405   \n",
       "3     2016-10-20  213.869995  214.529999  213.110001  213.880005  195.287125   \n",
       "4     2016-10-21  213.880005  214.080002  212.759995  213.979996  195.378418   \n",
       "...          ...         ...         ...         ...         ...         ...   \n",
       "1253  2021-10-08  439.480011  439.890015  437.190002  437.859985  437.859985   \n",
       "1254  2021-10-11  437.160004  440.260010  434.619995  434.690002  434.690002   \n",
       "1255  2021-10-12  435.670013  436.100006  432.779999  433.619995  433.619995   \n",
       "1256  2021-10-13  434.709991  436.049988  431.540009  435.179993  435.179993   \n",
       "1257  2021-10-14  439.079987  442.660004  438.579987  442.500000  442.500000   \n",
       "\n",
       "        Volume   returns  \n",
       "0     58275700 -0.003332  \n",
       "1     76869700 -0.002474  \n",
       "2     66519200  0.001215  \n",
       "3     73639800  0.000047  \n",
       "4     89089100  0.000468  \n",
       "...        ...       ...  \n",
       "1253  74492900 -0.003686  \n",
       "1254  65233300 -0.005650  \n",
       "1255  71181200 -0.004705  \n",
       "1256  72974000  0.001081  \n",
       "1257  70137800  0.007789  \n",
       "\n",
       "[1258 rows x 8 columns]"
      ]
     },
     "metadata": {},
     "output_type": "display_data"
    }
   ],
   "source": [
    "# daily returns\n",
    "data['returns'] = (data['Close'] - data['Open']) / data['Open']\n",
    "data"
   ]
  },
  {
   "cell_type": "code",
   "execution_count": null,
   "metadata": {},
   "outputs": [
    {
     "data": {
      "text/plain": [
       "(array([  1.,   1.,  12.,  36., 161., 829., 189.,  18.,   7.,   4.]),\n",
       " array([-0.05661154, -0.04626939, -0.03592725, -0.0255851 , -0.01524296,\n",
       "        -0.00490082,  0.00544133,  0.01578347,  0.02612562,  0.03646776,\n",
       "         0.04680991]),\n",
       " <BarContainer object of 10 artists>)"
      ]
     },
     "metadata": {},
     "output_type": "display_data"
    },
    {
     "data": {
      "image/png": "[encoded data removed]",
      "text/plain": [
       "<Figure size 640x480 with 1 Axes>"
      ]
     },
     "metadata": {},
     "output_type": "display_data"
    }
   ],
   "source": [
    "# create a histogram of returns\n",
    "from matplotlib import pyplot as plt\n",
    "plt.hist(data['returns'])\n",
    "\n",
    "\n",
    "# create a figure, then do whatever you wish to make the plot pretty"
   ]
  },
  {
   "cell_type": "markdown",
   "metadata": {},
   "source": [
    "## Resources\n",
    "\n",
    "1. https://www.learndatasci.com/tutorials/applied-introduction-to-numpy-python-tutorial/\n",
    "2. https://app.datacamp.com/learn\n",
    "3. https://queirozf.com/entries/pandas-dataframe-plot-examples-with-matplotlib-pyplot\n",
    "\n",
    "## Other libraries that are good to know\n",
    "\n",
    "1. `seaborn` for data visualization\n",
    "2. `sklearn / sci-kit learn` for machine learning\n",
    "3. `Tensorflow / PyTorch` for deep learning\n",
    "4. Any financial data library to extract data (`yfinance, openBB, etc.`)"
   ]
  },
  {
   "cell_type": "markdown",
   "metadata": {},
   "source": [
    "## Practice!"
   ]
  },
  {
   "cell_type": "markdown",
   "metadata": {},
   "source": [
    "1. Create an array of the first 10 prime numbers. Then write a python program to return the difference between its neighboring value ($n_{i+1} - n_{i}$). \n",
    "\n",
    "`Ex. [5, 9, 7] should return [4, -2]`\n",
    "\n",
    "2. Given a range of numbers (inclusive), return how many odd numbers there are.\n",
    "\n",
    "3. Create a 2D $n$ by $n$ array where only the border of the matrix is one, and the rest are 0s.\n",
    "\n",
    "4. Given a list of non repeating numbers, find the missing number.**\n",
    "\n",
    "**Let's try to use the libraries we just learned!**"
   ]
  },
  {
   "cell_type": "code",
   "execution_count": null,
   "metadata": {},
   "outputs": [
    {
     "name": "stdout",
     "output_type": "stream",
     "text": [
      "[1, 2, 2, 4, 2, 4, 2, 4, 14]\n"
     ]
    }
   ],
   "source": [
    "import numpy as np\n",
    "def primeDifference():\n",
    "    \"\"\" q1\n",
    "    [5, 9, 7] should return [4, -2]\n",
    "    \"\"\"\n",
    "    #create array\n",
    "    array1 = np.array([2, 3, 5, 7, 11, 13, 17, 19, 23, 37]);\n",
    "    array2 = [];\n",
    "    for i in range(array1.size - 1):\n",
    "        array2.append(array1[i+1] - array1[i]);\n",
    "    \n",
    "\n",
    "    \n",
    "            \n",
    "    # hint: you should try to code it first, but there is a function that specifically does this\n",
    "    # Stackoverflow, Google, ChatGPT are your best friends\n",
    "    \n",
    "    return array2;\n",
    "\n",
    "print(primeDifference())\n"
   ]
  },
  {
   "cell_type": "code",
   "execution_count": null,
   "metadata": {},
   "outputs": [
    {
     "name": "stdout",
     "output_type": "stream",
     "text": [
      "997\n"
     ]
    }
   ],
   "source": [
    "def oddInRange(a, b):\n",
    "    \"\"\" q2\n",
    "    Given [a, b], return number of odds in that range ([a, b] inclusive)\n",
    "    Ex. [1, 4] should return 2. [0,4] returns 2. [10, 2003] returns 997. \n",
    "    \"\"\"\n",
    "    count = 0;\n",
    "    for i in range(a, b + 1):\n",
    "        if i % 2 == 1:\n",
    "            count += 1;\n",
    "    return count;\n",
    "\n",
    "print(oddInRange(10, 2003))"
   ]
  },
  {
   "cell_type": "code",
   "execution_count": null,
   "metadata": {},
   "outputs": [],
   "source": [
    "import numpy as np\n",
    "def arrayBorder(n):\n",
    "    \"\"\" q3\n",
    "    Create a 2D n by n array where only the border of the matrix is one, and the rest are 0s.\n",
    "\n",
    "    Hint: Many ways to do it, but for the sake of learning, use np.ones() and figure out what it does!\n",
    "    \"\"\"\n",
    "    return"
   ]
  },
  {
   "cell_type": "code",
   "execution_count": null,
   "metadata": {},
   "outputs": [
    {
     "data": {
      "text/plain": [
       "0.0"
      ]
     },
     "metadata": {},
     "output_type": "display_data"
    }
   ],
   "source": [
    "def missingNumber(miss):\n",
    "    \"\"\" q4\n",
    "    Given a list of non repeating numbers, find the missing number.\n",
    "    [1,2,4] returns 3\n",
    "    [3,2,1,7,5,6] returns 4 \n",
    "    Hint: there is a really elegant way to do this - try to come up with it!\n",
    "    \"\"\"\n",
    "    sum_of_list = (max(miss)*(max(miss) + 1))/2;\n",
    "    for i in miss:\n",
    "        sum_of_list -= i\n",
    "    return sum_of_list\n",
    "missingNumber([1, 2, 3])"
   ]
  },
  {
   "cell_type": "markdown",
   "metadata": {},
   "source": [
    "5. Two Sum: Classic LeetCode\n",
    "\n",
    "https://leetcode.com/problems/two-sum/\n",
    "\n",
    "Top data structures to know:\n",
    "* Queues\n",
    "* Stacks\n",
    "* Hashmap (Dictionary)\n",
    "* Dequeues"
   ]
  },
  {
   "cell_type": "markdown",
   "metadata": {},
   "source": [
    "**Calculating probabilities**\n",
    "\n",
    "Consider the number of people that show up at a bus station is Poisson with mean 2.5/hour.\n",
    "What is the probability that at most three people show up in a four hour period?\n",
    "$\\mu = 2.5*4 = 10$, \n",
    "$k = 3$"
   ]
  },
  {
   "cell_type": "code",
   "execution_count": null,
   "metadata": {},
   "outputs": [
    {
     "data": {
      "text/plain": [
       "0.010336050675925721"
      ]
     },
     "metadata": {},
     "output_type": "display_data"
    }
   ],
   "source": [
    "from scipy.stats import poisson\n",
    "\n",
    "# poisson is discrete, not continuous\n",
    "\n",
    "p = 0\n",
    "count = 3\n",
    "\n",
    "for i in range(count+1):\n",
    "    p += poisson.pmf(k=i, mu=10)\n",
    "p"
   ]
  },
  {
   "cell_type": "markdown",
   "metadata": {},
   "source": [
    "**Use SPY.csv to create two histograms, one for returns and one for stock prices**\n",
    "\n",
    "What do you think these distributions are? (Exponential, Normal, etc.)"
   ]
  },
  {
   "cell_type": "code",
   "execution_count": null,
   "metadata": {},
   "outputs": [
    {
     "data": {
      "image/png": "[encoded data removed]",
      "text/plain": [
       "<Figure size 640x480 with 1 Axes>"
      ]
     },
     "metadata": {},
     "output_type": "display_data"
    },
    {
     "data": {
      "image/png": "[encoded data removed]",
      "text/plain": [
       "<Figure size 640x480 with 1 Axes>"
      ]
     },
     "metadata": {},
     "output_type": "display_data"
    }
   ],
   "source": [
    "import pandas as pd\n",
    "from matplotlib import pyplot as plt\n",
    "\n",
    "data = pd.read_csv('SPY.csv')\n",
    "data['returns'] = (data['Close'] - data['Open']) / data['Open']\n",
    "\n",
    "plt.figure(0)\n",
    "plt.hist(data['returns'], bins = 50)\n",
    "plt.xlabel('Returns')\n",
    "plt.ylabel('Frequency')\n",
    "plt.title('SPY Returns Histogram')\n",
    "plt.show()\n",
    "\n",
    "plt.figure(1)\n",
    "plt.hist(data['Open'], bins = 100)\n",
    "plt.xlabel('Stock Price')\n",
    "plt.ylabel('Frequency')\n",
    "plt.title('SPY Open Stock Prices Histogram')\n",
    "plt.show()\n"
   ]
  },
  {
   "cell_type": "markdown",
   "metadata": {},
   "source": [
    "## Common Jupyter operations\n",
    "\n",
    "Near the top of the Jupyter notebook window, there are a row of menu options (`File`, `Edit`, `View`, `Insert`, ...) and a row of tool bar icons (disk, plus sign, scissors, 2 files, clipboard and file, up arrow, ...).\n",
    "\n",
    "#### Inserting and removing cells\n",
    "\n",
    "- Use the \"plus sign\" icon to insert a cell below the currently selected cell\n",
    "- Use \"Insert\" -> \"Insert Cell Above\" from the menu to insert above\n",
    "\n",
    "#### Clear the output of all cells\n",
    "\n",
    "- Use \"Kernel\" -> \"Restart\" from the menu to restart the kernel\n",
    "    - click on \"clear all outputs & restart\" to have all the output cleared\n",
    "\n",
    "#### Save your notebook file locally\n",
    "\n",
    "- Clear the output of all cells\n",
    "- Use \"File\" -> \"Download as\" -> \"IPython Notebook (.ipynb)\" to download a notebook file representing your https://mybinder.org session\n",
    "\n",
    "<hr>"
   ]
  },
  {
   "cell_type": "markdown",
   "metadata": {},
   "source": [
    "## Tips and tricks for .ipynb and VSCode"
   ]
  },
  {
   "cell_type": "markdown",
   "metadata": {},
   "source": [
    "* Question mark after a command to bring up the documentaries that gives you info on what it does\n",
    "* To comment and uncomment blocks in Jupyter: **` 'CMD' + '/' `**\n",
    "* To indent or unindent blocks of code: **` CMD + '[' OR ']' `**\n",
    "* **` ESC + L `** to number each line of code\n",
    "* To select multiple occurrences of words and edit simultaneously in VSCode, highlight the word, press `CMD + D` and edit"
   ]
  },
  {
   "cell_type": "code",
   "execution_count": null,
   "metadata": {},
   "outputs": [],
   "source": [
    "def some_code(x, y):\n",
    "    \"\"\"\n",
    "    Comment the first three solutions out and fix indentation\n",
    "    \"\"\"\n",
    "        solution = x + y\n",
    "        solution = x - y\n",
    "        solution = x * y\n",
    "    solution = np.sqrt(x**2 + y**2)\n",
    "    return solution"
   ]
  },
  {
   "cell_type": "code",
   "execution_count": null,
   "metadata": {},
   "outputs": [],
   "source": [
    "# multiple variable assignments\n",
    "mean, std = 1, 2\n",
    "print(mean, std)"
   ]
  },
  {
   "cell_type": "markdown",
   "metadata": {},
   "source": [
    "## NumPy\n",
    "\n",
    "Great for simple numerical calculations and manipulating data structures like arrays and vectors."
   ]
  },
  {
   "cell_type": "markdown",
   "metadata": {
    "collapsed": true
   },
   "source": [
    "### Some methods on list objects\n",
    "\n",
    "- **`.append(item)`** to add a single item to the list\n",
    "- **`.extend([item1, item2, ...])`** to add multiple items to the list\n",
    "- **`.remove(item)`** to remove a single item from the list\n",
    "- **`.pop()`** to remove and return the item at the end of the list\n",
    "- **`.pop(index)`** to remove and return an item at an index"
   ]
  },
  {
   "cell_type": "code",
   "execution_count": null,
   "metadata": {},
   "outputs": [],
   "source": [
    "# Manipulating lists and arrays are important for playing around with any type of data\n",
    "\n",
    "import numpy as np\n",
    "\n",
    "array1 = np.array([0, 1, 2, 3, 4, 5])\n",
    "type(array1)\n",
    "# numpy arrays are really useful for vectorization and matrix operations"
   ]
  },
  {
   "cell_type": "code",
   "execution_count": null,
   "metadata": {},
   "outputs": [],
   "source": [
    "# f-strings are very useful for debugging and printing in general\n",
    "print(f'Array1 Before: {array1}')\n",
    "array1 = np.append(array1, 15) # append is a function\n",
    "print(f'Array1 After: {array1}')"
   ]
  },
  {
   "cell_type": "code",
   "execution_count": null,
   "metadata": {},
   "outputs": [],
   "source": [
    "list1 = list(range(5))\n",
    "print(f'list1 Before: {list1}')\n",
    "# list1.append(15) \n",
    "list1 = list1.append(15) # .append is a method, it does it to itself\n",
    "print(f'list1 After: {list1}')"
   ]
  },
  {
   "cell_type": "code",
   "execution_count": null,
   "metadata": {},
   "outputs": [],
   "source": [
    "# Queues - First in First Out (FIFO)\n",
    "list1 = list(range(5))\n",
    "print(f'list1 Before: {list1}')\n",
    "list1.pop(0)\n",
    "print(f'list1 After: {list1}')\n",
    "\n",
    "# append and pop(0) are great for turning your data structure into a Queue\n",
    "# Check out dequeues, great data structure for LeetCode questions\n",
    "# https://www.geeksforgeeks.org/deque-in-python/"
   ]
  },
  {
   "cell_type": "code",
   "execution_count": null,
   "metadata": {},
   "outputs": [],
   "source": [
    "ls = np.linspace(0, 100, 51) # notice the dtype is a float, you can change this in the linspace function parameters\n",
    "#np.arange()\n",
    "print(ls)\n",
    "print(type(ls))\n",
    "#?np.linspace"
   ]
  },
  {
   "cell_type": "code",
   "execution_count": null,
   "metadata": {},
   "outputs": [],
   "source": [
    "list2 = list(range(6))\n",
    "array2 = np.array([0, 1, 2, 3, 4, 5])\n",
    "\n",
    "print(f'list2 Before: {list2}')\n",
    "list2 = 2*list2\n",
    "print(f'list2 After: {list2}')\n",
    "\n",
    "print() ###################\n",
    "\n",
    "print(f'array2 Before: {array2}')\n",
    "array2 = 2*array2\n",
    "print(f'array2 After: {array2}')\n",
    "# this is why arrays are great for linear algebra and playing with data (matrices)"
   ]
  },
  {
   "cell_type": "code",
   "execution_count": null,
   "metadata": {},
   "outputs": [],
   "source": [
    "print(np.e, np.pi, np.sin(np.pi))\n",
    "\n",
    "# notice what np.sin(np.pi) returns, can you think why?"
   ]
  },
  {
   "cell_type": "markdown",
   "metadata": {},
   "source": [
    "## Matplotlib\n",
    "\n",
    "Great for making plots in Python. Typical plots include histograms, lineplots, and scatterplots."
   ]
  },
  {
   "cell_type": "code",
   "execution_count": null,
   "metadata": {},
   "outputs": [],
   "source": [
    "from matplotlib import pyplot as plt\n",
    "# OR import matplotlib.pyplot as plt"
   ]
  },
  {
   "cell_type": "code",
   "execution_count": null,
   "metadata": {},
   "outputs": [],
   "source": [
    "x = np.linspace(0, 2 * np.pi, 400)\n",
    "y = np.sin(x) # transform x\n",
    "print(x[:10])"
   ]
  },
  {
   "cell_type": "code",
   "execution_count": null,
   "metadata": {},
   "outputs": [],
   "source": [
    "plt.figure()\n",
    "plt.plot(x, y)\n",
    "\n",
    "plt.xlabel(\"x\")\n",
    "plt.ylabel(\"y\")\n",
    "plt.title(\"y vs x\")"
   ]
  },
  {
   "cell_type": "code",
   "execution_count": null,
   "metadata": {},
   "outputs": [],
   "source": [
    "fig, axs = plt.subplots(2)\n",
    "fig.suptitle('Vertically stacked subplots')\n",
    "axs[0].plot(x, y)\n",
    "axs[1].plot(x, -y)"
   ]
  },
  {
   "cell_type": "code",
   "execution_count": null,
   "metadata": {},
   "outputs": [],
   "source": [
    "# Plot, labels, and legends\n",
    "# might have to use plt.show() if plots not showing"
   ]
  },
  {
   "cell_type": "code",
   "execution_count": null,
   "metadata": {},
   "outputs": [],
   "source": [
    "fig, (ax1, ax2) = plt.subplots(2, figsize = (5,5))\n",
    "fig.suptitle('Vertically stacked subplots')\n",
    "ax1.plot(x, y)\n",
    "ax2.plot(x, -y)"
   ]
  },
  {
   "cell_type": "code",
   "execution_count": null,
   "metadata": {},
   "outputs": [],
   "source": [
    "fig, (ax1, ax2) = plt.subplots(1, 2, figsize=(10,5))\n",
    "fig.suptitle('Horizontally stacked subplots')\n",
    "ax1.plot(x, y)\n",
    "ax2.plot(x, -y)"
   ]
  },
  {
   "cell_type": "code",
   "execution_count": null,
   "metadata": {},
   "outputs": [],
   "source": [
    "Z = np.random.normal(0, 1, 100)\n",
    "#plt.hist(Z, bins = 100)\n",
    "plt.scatter(Z, Z**2)"
   ]
  },
  {
   "cell_type": "markdown",
   "metadata": {},
   "source": [
    "## Pandas\n",
    "\n",
    "Great for reading data, manipulating data, preparing data."
   ]
  },
  {
   "cell_type": "code",
   "execution_count": null,
   "metadata": {},
   "outputs": [],
   "source": [
    "import pandas as pd\n",
    "\n",
    "data = pd.read_csv('SPY.csv')\n",
    "data"
   ]
  },
  {
   "cell_type": "code",
   "execution_count": null,
   "metadata": {},
   "outputs": [],
   "source": [
    "data.head()\n",
    "# data.tail()"
   ]
  },
  {
   "cell_type": "code",
   "execution_count": null,
   "metadata": {},
   "outputs": [],
   "source": [
    "data.plot('Date', 'Close')"
   ]
  },
  {
   "cell_type": "code",
   "execution_count": null,
   "metadata": {},
   "outputs": [],
   "source": [
    "# daily returns\n",
    "data['returns'] = (data['Close'] - data['Open']) / data['Open']\n",
    "data"
   ]
  },
  {
   "cell_type": "code",
   "execution_count": null,
   "metadata": {},
   "outputs": [],
   "source": [
    "# create a histogram of returns\n",
    "\n",
    "plt.hist?\n",
    "\n",
    "# create a figure, then do whatever you wish to make the plot pretty"
   ]
  },
  {
   "cell_type": "markdown",
   "metadata": {},
   "source": [
    "## Resources\n",
    "\n",
    "1. https://www.learndatasci.com/tutorials/applied-introduction-to-numpy-python-tutorial/\n",
    "2. https://app.datacamp.com/learn\n",
    "3. https://queirozf.com/entries/pandas-dataframe-plot-examples-with-matplotlib-pyplot\n",
    "\n",
    "## Other libraries that are good to know\n",
    "\n",
    "1. `seaborn` for data visualization\n",
    "2. `sklearn / sci-kit learn` for machine learning\n",
    "3. `Tensorflow / PyTorch` for deep learning\n",
    "4. Any financial data library to extract data (`yfinance, openBB, etc.`)"
   ]
  },
  {
   "cell_type": "markdown",
   "metadata": {},
   "source": [
    "## Practice!"
   ]
  },
  {
   "cell_type": "markdown",
   "metadata": {},
   "source": [
    "1. Create an array of the first 10 prime numbers. Then write a python program to return the difference between its neighboring value ($n_{i+1} - n_{i}$). \n",
    "\n",
    "`Ex. [5, 9, 7] should return [4, -2]`\n",
    "\n",
    "2. Given a range of numbers (inclusive), return how many odd numbers there are.\n",
    "\n",
    "3. Create a 2D $n$ by $n$ array where only the border of the matrix is one, and the rest are 0s.\n",
    "\n",
    "4. Given a list of non repeating numbers, find the missing number.**\n",
    "\n",
    "**Let's try to use the libraries we just learned!**"
   ]
  },
  {
   "cell_type": "code",
   "execution_count": null,
   "metadata": {},
   "outputs": [],
   "source": [
    "import numpy as np\n",
    "def primeDifference():\n",
    "    \"\"\" q1\n",
    "    [5, 9, 7] should return [4, -2]\n",
    "    \"\"\"\n",
    "    #create array\n",
    "    array1 = np.array([2, 3, 5, 7, 11, 13, 17, 19, 23, 37]);\n",
    "    array2 = [];\n",
    "    for i in range(array1.size - 1):\n",
    "        array2.append(array1[i+1] - array1[i]);\n",
    "    \n",
    "\n",
    "    \n",
    "            \n",
    "    # hint: you should try to code it first, but there is a function that specifically does this\n",
    "    # Stackoverflow, Google, ChatGPT are your best friends\n",
    "    \n",
    "    return array2;\n",
    "\n",
    "print(primeDifference())\n"
   ]
  },
  {
   "cell_type": "code",
   "execution_count": null,
   "metadata": {},
   "outputs": [],
   "source": [
    "def oddInRange(a, b):\n",
    "    \"\"\" q2\n",
    "    Given [a, b], return number of odds in that range ([a, b] inclusive)\n",
    "    Ex. [1, 4] should return 2. [0,4] returns 2. [10, 2003] returns 997. \n",
    "    \"\"\"\n",
    "    count = 0;\n",
    "    for i in range(a, b + 1):\n",
    "        if i % 2 == 1:\n",
    "            count += 1;\n",
    "    return count;\n",
    "\n",
    "print(oddInRange(10, 2003))"
   ]
  },
  {
   "cell_type": "code",
   "execution_count": null,
   "metadata": {},
   "outputs": [],
   "source": [
    "def arrayBorder(n):\n",
    "    \"\"\" q3\n",
    "    Create a 2D n by n array where only the border of the matrix is one, and the rest are 0s.\n",
    "    \n",
    "    Hint: Many ways to do it, but for the sake of learning, use np.ones() and figure out what it does!\n",
    "    \"\"\"\n",
    "\n",
    "    return\n",
    "\n",
    "?np.ones"
   ]
  },
  {
   "cell_type": "code",
   "execution_count": null,
   "metadata": {},
   "outputs": [],
   "source": [
    "def missingNumber(miss):\n",
    "    \"\"\" q4\n",
    "    Given a list of non repeating numbers, find the missing number.\n",
    "    [1,2,4] returns 3\n",
    "    [3,2,1,7,5,6] returns 4 \n",
    "    Hint: there is a really elegant way to do this - try to come up with it!\n",
    "    \"\"\"\n",
    "    sum_of_list = (max(miss)*(max(miss) + 1))/2;\n",
    "    for i in miss:\n",
    "        sum_of_list -= i\n",
    "    return sum_of_list\n",
    "missingNumber([1, 2, 3])"
   ]
  },
  {
   "cell_type": "markdown",
   "metadata": {},
   "source": [
    "5. Two Sum: Classic LeetCode\n",
    "\n",
    "https://leetcode.com/problems/two-sum/\n",
    "\n",
    "Top data structures to know:\n",
    "* Queues\n",
    "* Stacks\n",
    "* Hashmap (Dictionary)\n",
    "* Dequeues"
   ]
  },
  {
   "cell_type": "markdown",
   "metadata": {},
   "source": [
    "**Calculating probabilities**\n",
    "\n",
    "Consider the number of people that show up at a bus station is Poisson with mean 2.5/hour.\n",
    "What is the probability that at most three people show up in a four hour period?\n",
    "$\\mu = 2.5*4 = 10$, \n",
    "$k = 3$"
   ]
  },
  {
   "cell_type": "code",
   "execution_count": null,
   "metadata": {},
   "outputs": [],
   "source": [
    "import pandas as pd\n",
    "from matplotlib import pyplot as plt\n",
    "\n",
    "data = pd.read_csv('SPY.csv')\n",
    "data['returns'] = (data['Close'] - data['Open']) / data['Open']\n",
    "\n",
    "plt.figure(0)\n",
    "plt.hist(data['returns'], bins = 50)\n",
    "plt.xlabel('Returns')\n",
    "plt.ylabel('Frequency')\n",
    "plt.title('SPY Returns Histogram')\n",
    "plt.show()\n",
    "\n",
    "plt.figure(1)\n",
    "plt.hist(data['Open'], bins = 100)\n",
    "plt.xlabel('Stock Price')\n",
    "plt.ylabel('Frequency')\n",
    "plt.title('SPY Open Stock Prices Histogram')\n",
    "plt.show()\n"
   ]
  },
  {
   "cell_type": "markdown",
   "metadata": {},
   "source": [
    "**Use SPY.csv to create two histograms, one for returns and one for stock prices**\n",
    "\n",
    "What do you think these distributions are? (Exponential, Normal, etc.)"
   ]
  },
  {
   "cell_type": "code",
   "execution_count": null,
   "metadata": {},
   "outputs": [],
   "source": [
    "# plt.hist"
   ]
  },
  {
   "cell_type": "code",
   "execution_count": null,
   "metadata": {},
   "outputs": [],
   "source": []
  }
 ],
 "metadata": {
  "kernelspec": {
   "display_name": "Python 3",
   "language": "python",
   "name": "python3"
  },
  "language_info": {
   "codemirror_mode": {
    "name": "ipython",
    "version": 3
   },
   "file_extension": ".py",
   "mimetype": "text/x-python",
   "name": "python",
   "nbconvert_exporter": "python",
   "pygments_lexer": "ipython3",
   "version": "3.8.3"
  }
 },
 "nbformat": 4,
 "nbformat_minor": 1
}
